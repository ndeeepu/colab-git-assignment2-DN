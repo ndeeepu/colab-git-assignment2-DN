
{
 "cells": [
  {
   "cell_type": "markdown",
   "metadata": {},
   "source": [
    "# Git and GitHub Assignment 2\n",
    "This notebook demonstrates basic Git operations."
   ]
  },
  {
   "cell_type": "code",
   "execution_count": 1,
   "metadata": {},
   "outputs": [],
   "source": [
    "def multiply_numbers(a, b):\n",
    "    return a * b\n",
    "print(multiply_numbers(3, 4))"
   ]
  }
 ],
 "metadata": {},
 "nbformat": 4,
 "nbformat_minor": 0
}

# New function added
def divide_numbers(a, b):
    return a / b if b != 0 else "Cannot divide by zero"
print(divide_numbers(10, 2))
